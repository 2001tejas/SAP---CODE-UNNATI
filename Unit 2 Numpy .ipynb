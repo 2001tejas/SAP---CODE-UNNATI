{
 "cells": [
  {
   "cell_type": "markdown",
   "id": "a678719e",
   "metadata": {},
   "source": [
    "# Numpy"
   ]
  },
  {
   "cell_type": "markdown",
   "id": "127d9b15",
   "metadata": {},
   "source": [
    "# Why Numpy"
   ]
  },
  {
   "cell_type": "markdown",
   "id": "bec369ac",
   "metadata": {},
   "source": [
    "1.Arithmatic Oprations 2.Bitwise Oprations 3.Stacking 4.Mathematical Oprations 5.Statistical Oprations"
   ]
  },
  {
   "cell_type": "code",
   "execution_count": 2,
   "id": "4b09ef3d",
   "metadata": {},
   "outputs": [],
   "source": [
    "import numpy as np"
   ]
  },
  {
   "cell_type": "code",
   "execution_count": 3,
   "id": "8a73d534",
   "metadata": {},
   "outputs": [
    {
     "name": "stdout",
     "output_type": "stream",
     "text": [
      "[1 2 3 4 5]\n"
     ]
    }
   ],
   "source": [
    "x=np.array([1,2,3,4,5])\n",
    "print(x)"
   ]
  },
  {
   "cell_type": "code",
   "execution_count": 4,
   "id": "cf8058be",
   "metadata": {},
   "outputs": [
    {
     "data": {
      "text/plain": [
       "numpy.ndarray"
      ]
     },
     "execution_count": 4,
     "metadata": {},
     "output_type": "execute_result"
    }
   ],
   "source": [
    "x=np.array([1,2,3,4,5,6,7])\n",
    "type(x)"
   ]
  },
  {
   "cell_type": "code",
   "execution_count": 5,
   "id": "28b9b8d9",
   "metadata": {},
   "outputs": [
    {
     "data": {
      "text/plain": [
       "7"
      ]
     },
     "execution_count": 5,
     "metadata": {},
     "output_type": "execute_result"
    }
   ],
   "source": [
    "len(x)"
   ]
  },
  {
   "cell_type": "code",
   "execution_count": 6,
   "id": "e7b179bd",
   "metadata": {},
   "outputs": [
    {
     "name": "stdout",
     "output_type": "stream",
     "text": [
      "(7,)\n",
      "1\n"
     ]
    }
   ],
   "source": [
    "print(x.shape)\n",
    "print(x.ndim)"
   ]
  },
  {
   "cell_type": "code",
   "execution_count": 9,
   "id": "65c8cea6",
   "metadata": {},
   "outputs": [
    {
     "name": "stdout",
     "output_type": "stream",
     "text": [
      "[[1 2 3 4 5]\n",
      " [5 6 7 8 9]]\n"
     ]
    }
   ],
   "source": [
    "x=np.array([[1,2,3,4,5],[5,6,7,8,9]])\n",
    "print(x)"
   ]
  },
  {
   "cell_type": "code",
   "execution_count": 10,
   "id": "cd432d15",
   "metadata": {},
   "outputs": [
    {
     "name": "stdout",
     "output_type": "stream",
     "text": [
      "(2, 5)\n",
      "2\n",
      "<class 'numpy.ndarray'>\n"
     ]
    }
   ],
   "source": [
    "print(x.shape)\n",
    "print(x.ndim)\n",
    "print(type(x))"
   ]
  },
  {
   "cell_type": "code",
   "execution_count": 11,
   "id": "ecbf73fd",
   "metadata": {},
   "outputs": [
    {
     "name": "stdout",
     "output_type": "stream",
     "text": [
      "[list([1, 2, 3, 4, 5]) list([5, 6, 7, 8])]\n",
      "<class 'numpy.ndarray'>\n",
      "(2,)\n",
      "1\n"
     ]
    },
    {
     "name": "stderr",
     "output_type": "stream",
     "text": [
      "C:\\Users\\pandy\\AppData\\Local\\Temp\\ipykernel_6244\\861718746.py:1: VisibleDeprecationWarning: Creating an ndarray from ragged nested sequences (which is a list-or-tuple of lists-or-tuples-or ndarrays with different lengths or shapes) is deprecated. If you meant to do this, you must specify 'dtype=object' when creating the ndarray.\n",
      "  x=np.array([[1,2,3,4,5],[5,6,7,8,]])\n"
     ]
    }
   ],
   "source": [
    "x=np.array([[1,2,3,4,5],[5,6,7,8,]])\n",
    "print(x)\n",
    "print(type(x))\n",
    "print(x.shape)\n",
    "print(x.ndim)"
   ]
  },
  {
   "cell_type": "code",
   "execution_count": 12,
   "id": "4977f631",
   "metadata": {},
   "outputs": [],
   "source": [
    "x=np.array([[[1,2,3],[4,5,6],[7,8,9]]])"
   ]
  },
  {
   "cell_type": "code",
   "execution_count": 13,
   "id": "ef1d8daf",
   "metadata": {},
   "outputs": [
    {
     "name": "stdout",
     "output_type": "stream",
     "text": [
      "[[1 2 3]\n",
      " [4 5 6]\n",
      " [7 8 9]]\n"
     ]
    }
   ],
   "source": [
    "print(x)"
   ]
  },
  {
   "cell_type": "code",
   "execution_count": 15,
   "id": "438c2183",
   "metadata": {},
   "outputs": [
    {
     "name": "stdout",
     "output_type": "stream",
     "text": [
      "<class 'numpy.ndarray'>\n",
      "(3, 3)\n",
      "2\n"
     ]
    }
   ],
   "source": [
    "print(type(x))\n",
    "print(x.shape)\n",
    "print(x.ndim)"
   ]
  },
  {
   "cell_type": "code",
   "execution_count": 16,
   "id": "80766dfc",
   "metadata": {},
   "outputs": [
    {
     "name": "stdout",
     "output_type": "stream",
     "text": [
      "[[[1 2 3]\n",
      "  [3 4 5]\n",
      "  [4 5 6]]\n",
      "\n",
      " [[2 3 4]\n",
      "  [4 5 6]\n",
      "  [6 7 8]]\n",
      "\n",
      " [[4 5 6]\n",
      "  [5 6 7]\n",
      "  [8 9 7]]]\n",
      "(3, 3, 3)\n"
     ]
    }
   ],
   "source": [
    "x=np.array([[[1,2,3],[3,4,5],[4,5,6]],[[2,3,4],[4,5,6],[6,7,8]],[[4,5,6],[5,6,7],[8,9,7]]])\n",
    "print(x)\n",
    "print(x.shape)"
   ]
  },
  {
   "cell_type": "code",
   "execution_count": 17,
   "id": "07fbdc4a",
   "metadata": {},
   "outputs": [
    {
     "name": "stdout",
     "output_type": "stream",
     "text": [
      "[ 5 10 12 13]\n",
      "[ 4 25 32 36]\n"
     ]
    }
   ],
   "source": [
    "A=np.array([1,5,8,9])\n",
    "B=np.array([4,5,4,4])\n",
    "print(A+B)\n",
    "print(A*B)"
   ]
  },
  {
   "cell_type": "code",
   "execution_count": 18,
   "id": "b991a934",
   "metadata": {},
   "outputs": [
    {
     "name": "stdout",
     "output_type": "stream",
     "text": [
      "[1 5 8 9]\n",
      "[4 5 4 4]\n",
      "97\n"
     ]
    }
   ],
   "source": [
    "A=np.array([1,5,8,9])\n",
    "B=np.array([4,5,4,4])\n",
    "print(A)\n",
    "print(B)\n",
    "print(A.dot(B))"
   ]
  },
  {
   "cell_type": "markdown",
   "id": "024deafe",
   "metadata": {},
   "source": [
    "# Random Number Generator Using Numpy# "
   ]
  },
  {
   "cell_type": "code",
   "execution_count": 20,
   "id": "43ccfe8e",
   "metadata": {},
   "outputs": [
    {
     "name": "stdout",
     "output_type": "stream",
     "text": [
      "26\n"
     ]
    }
   ],
   "source": [
    "from numpy import random\n",
    "random.seed(11)\n",
    "x=random.randint(1,110)\n",
    "print(x)"
   ]
  },
  {
   "cell_type": "code",
   "execution_count": 21,
   "id": "0d9e96c9",
   "metadata": {},
   "outputs": [
    {
     "name": "stdout",
     "output_type": "stream",
     "text": [
      "0.06830684110131291\n"
     ]
    }
   ],
   "source": [
    "#Generate random float number\n",
    "#random.seed(2)\n",
    "x=random.rand()\n",
    "print(x)"
   ]
  },
  {
   "cell_type": "code",
   "execution_count": 22,
   "id": "fe827162",
   "metadata": {},
   "outputs": [
    {
     "data": {
      "text/plain": [
       "array([75, 33, 96, 53, 91, 44, 68, 52, 65, 24, 54, 32, 21, 94, 57, 44, 37,\n",
       "       87, 90, 63, 84, 99, 43, 47, 90, 30, 77, 47, 64, 34])"
      ]
     },
     "execution_count": 22,
     "metadata": {},
     "output_type": "execute_result"
    }
   ],
   "source": [
    "random.randint(20,100, size=(30))"
   ]
  },
  {
   "cell_type": "code",
   "execution_count": 23,
   "id": "aa02ff24",
   "metadata": {},
   "outputs": [
    {
     "name": "stdout",
     "output_type": "stream",
     "text": [
      "[[[ 8 56 80]\n",
      "  [65 41 28]\n",
      "  [96  6 54]]\n",
      "\n",
      " [[72 51 60]\n",
      "  [ 2  4  9]\n",
      "  [88 82 69]]\n",
      "\n",
      " [[73 33 79]\n",
      "  [20 26 91]\n",
      "  [39 60 18]]]\n"
     ]
    }
   ],
   "source": [
    "#generate a 2-d array with 3 row, each contain 5 elements\n",
    "from numpy import random\n",
    "x=random.randint(1,100,size=(3,3,3))\n",
    "print(x)"
   ]
  },
  {
   "cell_type": "markdown",
   "id": "0499b21b",
   "metadata": {},
   "source": [
    "# Creating Scalars in Numpy# "
   ]
  },
  {
   "cell_type": "code",
   "execution_count": 24,
   "id": "2cfd28b3",
   "metadata": {},
   "outputs": [
    {
     "name": "stdout",
     "output_type": "stream",
     "text": [
      "input array is [7]\n",
      "output scalar form input array 7\n"
     ]
    },
    {
     "name": "stderr",
     "output_type": "stream",
     "text": [
      "C:\\Users\\pandy\\AppData\\Local\\Temp\\ipykernel_6244\\1630172804.py:5: DeprecationWarning: np.asscalar(a) is deprecated since NumPy v1.16, use a.item() instead\n",
      "  out_scalar=np.asscalar(in_arr)\n"
     ]
    }
   ],
   "source": [
    "#numpy.asscalar()\n",
    "import numpy as np\n",
    "in_arr=np.array([7])\n",
    "print(\"input array is\",in_arr)\n",
    "out_scalar=np.asscalar(in_arr)\n",
    "print(\"output scalar form input array\",out_scalar)"
   ]
  },
  {
   "cell_type": "code",
   "execution_count": 25,
   "id": "4c69ec3b",
   "metadata": {},
   "outputs": [
    {
     "name": "stdout",
     "output_type": "stream",
     "text": [
      "input array is [7 2]\n",
      "output scalar form input array 2\n"
     ]
    },
    {
     "name": "stderr",
     "output_type": "stream",
     "text": [
      "C:\\Users\\pandy\\AppData\\Local\\Temp\\ipykernel_6244\\575476275.py:4: DeprecationWarning: np.asscalar(a) is deprecated since NumPy v1.16, use a.item() instead\n",
      "  out_scalar=np.asscalar(in_arr[1])\n"
     ]
    }
   ],
   "source": [
    "import numpy as np\n",
    "in_arr=np.array([7,2])\n",
    "print(\"input array is\",in_arr)\n",
    "out_scalar=np.asscalar(in_arr[1])\n",
    "print(\"output scalar form input array\",out_scalar)"
   ]
  },
  {
   "cell_type": "markdown",
   "id": "e2f13c89",
   "metadata": {},
   "source": [
    "# Creating a Vactor in Numpy"
   ]
  },
  {
   "cell_type": "code",
   "execution_count": 27,
   "id": "98011467",
   "metadata": {},
   "outputs": [
    {
     "name": "stdout",
     "output_type": "stream",
     "text": [
      "[1, 2, 3]\n",
      "[[10], [20], [30]]\n",
      "[1, 2, 3, [10], [20], [30]]\n",
      "<class 'list'>\n"
     ]
    },
    {
     "data": {
      "text/plain": [
       "10"
      ]
     },
     "execution_count": 27,
     "metadata": {},
     "output_type": "execute_result"
    }
   ],
   "source": [
    "list1=[1,2,3]\n",
    "#creating list vertical\n",
    "list2=[[10],\n",
    "       [20],\n",
    "       [30]]\n",
    "print(list1)\n",
    "print(list2)\n",
    "print(list1+list2)\n",
    "print(type(list1))\n",
    "list2[0][0]"
   ]
  },
  {
   "cell_type": "markdown",
   "id": "05c84126",
   "metadata": {},
   "source": [
    "# Creating Matrix in Numpy"
   ]
  },
  {
   "cell_type": "code",
   "execution_count": 28,
   "id": "fd005526",
   "metadata": {},
   "outputs": [
    {
     "name": "stdout",
     "output_type": "stream",
     "text": [
      "via string input:\n",
      " [[1 2]\n",
      " [3 4]] \n",
      "\n",
      "\n",
      "via array like input:\n",
      " [[5 6]\n",
      " [3 4]]\n"
     ]
    }
   ],
   "source": [
    "import numpy as np\n",
    "a=np.matrix('1,2;3,4')\n",
    "print(\"via string input:\\n\",a,\"\\n\\n\")\n",
    "#array like input\n",
    "b=np.matrix([[5,6],[3,4]])\n",
    "print(\"via array like input:\\n\",b)"
   ]
  },
  {
   "cell_type": "code",
   "execution_count": 29,
   "id": "01be59af",
   "metadata": {},
   "outputs": [
    {
     "name": "stdout",
     "output_type": "stream",
     "text": [
      "via string input:\n",
      " [[1 2]\n",
      " [3 4]] \n",
      "\n",
      "\n",
      "via array like input:\n",
      " [[5 6]\n",
      " [3 4]]\n",
      "[[11 14]\n",
      " [27 34]]\n"
     ]
    }
   ],
   "source": [
    "import numpy as np\n",
    "a=np.matrix('1,2;3,4')\n",
    "print(\"via string input:\\n\",a,\"\\n\\n\")\n",
    "#array like input\n",
    "b=np.matrix([[5,6],[3,4]])\n",
    "print(\"via array like input:\\n\",b)\n",
    "print(a*b)"
   ]
  },
  {
   "cell_type": "code",
   "execution_count": null,
   "id": "66dc1163",
   "metadata": {},
   "outputs": [],
   "source": []
  }
 ],
 "metadata": {
  "kernelspec": {
   "display_name": "Python 3 (ipykernel)",
   "language": "python",
   "name": "python3"
  },
  "language_info": {
   "codemirror_mode": {
    "name": "ipython",
    "version": 3
   },
   "file_extension": ".py",
   "mimetype": "text/x-python",
   "name": "python",
   "nbconvert_exporter": "python",
   "pygments_lexer": "ipython3",
   "version": "3.9.12"
  }
 },
 "nbformat": 4,
 "nbformat_minor": 5
}
